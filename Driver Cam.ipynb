{
 "cells": [
  {
   "cell_type": "code",
   "execution_count": 14,
   "id": "ab091497",
   "metadata": {},
   "outputs": [
    {
     "name": "stdout",
     "output_type": "stream",
     "text": [
      "Requirement already satisfied: pyimage in c:\\users\\india\\anaconda3\\lib\\site-packages (0.1.1)\n",
      "Requirement already satisfied: numpy in c:\\users\\india\\anaconda3\\lib\\site-packages (from pyimage) (1.19.5)\n",
      "Requirement already satisfied: matplotlib in c:\\users\\india\\anaconda3\\lib\\site-packages (from pyimage) (3.3.4)\n",
      "Requirement already satisfied: scikit-image in c:\\users\\india\\anaconda3\\lib\\site-packages (from pyimage) (0.18.1)\n",
      "Requirement already satisfied: pyparsing!=2.0.4,!=2.1.2,!=2.1.6,>=2.0.3 in c:\\users\\india\\anaconda3\\lib\\site-packages (from matplotlib->pyimage) (2.4.7)\n",
      "Requirement already satisfied: cycler>=0.10 in c:\\users\\india\\anaconda3\\lib\\site-packages (from matplotlib->pyimage) (0.10.0)\n",
      "Requirement already satisfied: kiwisolver>=1.0.1 in c:\\users\\india\\anaconda3\\lib\\site-packages (from matplotlib->pyimage) (1.3.1)\n",
      "Requirement already satisfied: python-dateutil>=2.1 in c:\\users\\india\\anaconda3\\lib\\site-packages (from matplotlib->pyimage) (2.8.1)\n",
      "Requirement already satisfied: pillow>=6.2.0 in c:\\users\\india\\anaconda3\\lib\\site-packages (from matplotlib->pyimage) (8.2.0)\n",
      "Requirement already satisfied: six in c:\\users\\india\\anaconda3\\lib\\site-packages (from cycler>=0.10->matplotlib->pyimage) (1.15.0)\n",
      "Requirement already satisfied: scipy>=1.0.1 in c:\\users\\india\\anaconda3\\lib\\site-packages (from scikit-image->pyimage) (1.6.2)\n",
      "Requirement already satisfied: networkx>=2.0 in c:\\users\\india\\anaconda3\\lib\\site-packages (from scikit-image->pyimage) (2.5)\n",
      "Requirement already satisfied: imageio>=2.3.0 in c:\\users\\india\\anaconda3\\lib\\site-packages (from scikit-image->pyimage) (2.9.0)\n",
      "Requirement already satisfied: tifffile>=2019.7.26 in c:\\users\\india\\anaconda3\\lib\\site-packages (from scikit-image->pyimage) (2021.4.8)\n",
      "Requirement already satisfied: PyWavelets>=1.1.1 in c:\\users\\india\\anaconda3\\lib\\site-packages (from scikit-image->pyimage) (1.1.1)\n",
      "Requirement already satisfied: decorator>=4.3.0 in c:\\users\\india\\anaconda3\\lib\\site-packages (from networkx>=2.0->scikit-image->pyimage) (5.0.6)\n"
     ]
    }
   ],
   "source": [
    "!pip install pyimage"
   ]
  },
  {
   "cell_type": "code",
   "execution_count": 15,
   "id": "01a3159c",
   "metadata": {},
   "outputs": [],
   "source": [
    "import numpy\n",
    "from pygame import mixer\n",
    "import time\n",
    "import cv2\n",
    "from tkinter import *\n",
    "import tkinter.messagebox"
   ]
  },
  {
   "cell_type": "code",
   "execution_count": 17,
   "id": "decf0792",
   "metadata": {},
   "outputs": [
    {
     "ename": "TclError",
     "evalue": "image \"pyimage9\" doesn't exist",
     "output_type": "error",
     "traceback": [
      "\u001b[1;31m---------------------------------------------------------------------------\u001b[0m",
      "\u001b[1;31mTclError\u001b[0m                                  Traceback (most recent call last)",
      "\u001b[1;32m<ipython-input-17-8e79d71bbcbd>\u001b[0m in \u001b[0;36m<module>\u001b[1;34m\u001b[0m\n\u001b[0;32m      8\u001b[0m \u001b[0mlabel\u001b[0m\u001b[1;33m.\u001b[0m\u001b[0mpack\u001b[0m\u001b[1;33m(\u001b[0m\u001b[0mside\u001b[0m\u001b[1;33m=\u001b[0m\u001b[0mTOP\u001b[0m\u001b[1;33m)\u001b[0m\u001b[1;33m\u001b[0m\u001b[1;33m\u001b[0m\u001b[0m\n\u001b[0;32m      9\u001b[0m \u001b[0mfilename\u001b[0m \u001b[1;33m=\u001b[0m \u001b[0mPhotoImage\u001b[0m\u001b[1;33m(\u001b[0m\u001b[0mfile\u001b[0m\u001b[1;33m=\u001b[0m\u001b[1;34m\"bg.png\"\u001b[0m\u001b[1;33m)\u001b[0m\u001b[1;33m\u001b[0m\u001b[1;33m\u001b[0m\u001b[0m\n\u001b[1;32m---> 10\u001b[1;33m \u001b[0mbackground_label\u001b[0m \u001b[1;33m=\u001b[0m \u001b[0mLabel\u001b[0m\u001b[1;33m(\u001b[0m\u001b[0mframe\u001b[0m\u001b[1;33m,\u001b[0m\u001b[0mimage\u001b[0m\u001b[1;33m=\u001b[0m\u001b[0mfilename\u001b[0m\u001b[1;33m)\u001b[0m\u001b[1;33m\u001b[0m\u001b[1;33m\u001b[0m\u001b[0m\n\u001b[0m\u001b[0;32m     11\u001b[0m \u001b[0mbackground_label\u001b[0m\u001b[1;33m.\u001b[0m\u001b[0mpack\u001b[0m\u001b[1;33m(\u001b[0m\u001b[0mside\u001b[0m\u001b[1;33m=\u001b[0m\u001b[0mTOP\u001b[0m\u001b[1;33m)\u001b[0m\u001b[1;33m\u001b[0m\u001b[1;33m\u001b[0m\u001b[0m\n",
      "\u001b[1;32m~\\anaconda3\\lib\\tkinter\\__init__.py\u001b[0m in \u001b[0;36m__init__\u001b[1;34m(self, master, cnf, **kw)\u001b[0m\n\u001b[0;32m   3146\u001b[0m \u001b[1;33m\u001b[0m\u001b[0m\n\u001b[0;32m   3147\u001b[0m         \"\"\"\n\u001b[1;32m-> 3148\u001b[1;33m         \u001b[0mWidget\u001b[0m\u001b[1;33m.\u001b[0m\u001b[0m__init__\u001b[0m\u001b[1;33m(\u001b[0m\u001b[0mself\u001b[0m\u001b[1;33m,\u001b[0m \u001b[0mmaster\u001b[0m\u001b[1;33m,\u001b[0m \u001b[1;34m'label'\u001b[0m\u001b[1;33m,\u001b[0m \u001b[0mcnf\u001b[0m\u001b[1;33m,\u001b[0m \u001b[0mkw\u001b[0m\u001b[1;33m)\u001b[0m\u001b[1;33m\u001b[0m\u001b[1;33m\u001b[0m\u001b[0m\n\u001b[0m\u001b[0;32m   3149\u001b[0m \u001b[1;33m\u001b[0m\u001b[0m\n\u001b[0;32m   3150\u001b[0m \u001b[1;33m\u001b[0m\u001b[0m\n",
      "\u001b[1;32m~\\anaconda3\\lib\\tkinter\\__init__.py\u001b[0m in \u001b[0;36m__init__\u001b[1;34m(self, master, widgetName, cnf, kw, extra)\u001b[0m\n\u001b[0;32m   2570\u001b[0m         \u001b[1;32mfor\u001b[0m \u001b[0mk\u001b[0m\u001b[1;33m,\u001b[0m \u001b[0mv\u001b[0m \u001b[1;32min\u001b[0m \u001b[0mclasses\u001b[0m\u001b[1;33m:\u001b[0m\u001b[1;33m\u001b[0m\u001b[1;33m\u001b[0m\u001b[0m\n\u001b[0;32m   2571\u001b[0m             \u001b[1;32mdel\u001b[0m \u001b[0mcnf\u001b[0m\u001b[1;33m[\u001b[0m\u001b[0mk\u001b[0m\u001b[1;33m]\u001b[0m\u001b[1;33m\u001b[0m\u001b[1;33m\u001b[0m\u001b[0m\n\u001b[1;32m-> 2572\u001b[1;33m         self.tk.call(\n\u001b[0m\u001b[0;32m   2573\u001b[0m             (widgetName, self._w) + extra + self._options(cnf))\n\u001b[0;32m   2574\u001b[0m         \u001b[1;32mfor\u001b[0m \u001b[0mk\u001b[0m\u001b[1;33m,\u001b[0m \u001b[0mv\u001b[0m \u001b[1;32min\u001b[0m \u001b[0mclasses\u001b[0m\u001b[1;33m:\u001b[0m\u001b[1;33m\u001b[0m\u001b[1;33m\u001b[0m\u001b[0m\n",
      "\u001b[1;31mTclError\u001b[0m: image \"pyimage9\" doesn't exist"
     ]
    }
   ],
   "source": [
    "root=Tk()\n",
    "root.geometry('500x570')\n",
    "frame = Frame(root, relief=RIDGE, borderwidth=2)\n",
    "frame.pack(fill=BOTH,expand=1)\n",
    "root.title('Driver Cam')\n",
    "frame.config(background='light blue')\n",
    "label = Label(frame, text=\"Driver Cam\",bg='sea green',font=('Times 35 bold'))\n",
    "label.pack(side=TOP)\n",
    "filename = PhotoImage(file=\"bg.png\")\n",
    "background_label = Label(frame,image=filename)\n",
    "background_label.pack(side=TOP)"
   ]
  },
  {
   "cell_type": "code",
   "execution_count": 3,
   "id": "b2527930",
   "metadata": {},
   "outputs": [],
   "source": [
    "def hel():\n",
    "   help(cv2)\n",
    "\n",
    "def Contri():\n",
    "   tkinter.messagebox.showinfo(\"Contributors\",\"\\n1. RL Yuwin \\n\")\n",
    "\n",
    "\n",
    "def anotherWin():\n",
    "   tkinter.messagebox.showinfo(\"About\",'Driver Cam version v1.0\\n Made Using\\n-OpenCV\\n-Numpy\\n-Tkinter\\n In Python 3')\n",
    "                                    \n",
    "   \n",
    "\n",
    "menu = Menu(root)\n",
    "root.config(menu=menu)"
   ]
  },
  {
   "cell_type": "code",
   "execution_count": 4,
   "id": "82dc44cc",
   "metadata": {},
   "outputs": [],
   "source": [
    "subm1 = Menu(menu)\n",
    "menu.add_cascade(label=\"Tools\",menu=subm1)\n",
    "subm1.add_command(label=\"Open CV Docs\",command=hel)\n",
    "\n",
    "subm2 = Menu(menu)\n",
    "menu.add_cascade(label=\"About\",menu=subm2)\n",
    "subm2.add_command(label=\"Driver Cam\",command=anotherWin)\n",
    "subm2.add_command(label=\"Contributors\",command=Contri)\n",
    "\n",
    "\n",
    "\n",
    "def exitt():\n",
    "   exit()\n"
   ]
  },
  {
   "cell_type": "code",
   "execution_count": 5,
   "id": "d4f95350",
   "metadata": {},
   "outputs": [],
   "source": [
    "def web():\n",
    "   capture =cv2.VideoCapture(0)\n",
    "   while True:\n",
    "      ret,frame=capture.read()\n",
    "      gray = cv2.cvtColor(frame, cv2.COLOR_BGR2GRAY)\n",
    "      cv2.imshow('frame',frame)\n",
    "      if cv2.waitKey(1) & 0xFF ==ord('q'):\n",
    "         break\n",
    "   capture.release()\n",
    "   cv2.destroyAllWindows()\n",
    "\n",
    "def webrec():\n",
    "   capture =cv2.VideoCapture(0)\n",
    "   fourcc=cv2.VideoWriter_fourcc(*'XVID') \n",
    "   op=cv2.VideoWriter('Sample1.avi',fourcc,11.0,(640,480))\n",
    "   while True:\n",
    "      ret,frame=capture.read()\n",
    "      gray = cv2.cvtColor(frame, cv2.COLOR_BGR2GRAY)\n",
    "      cv2.imshow('frame',frame)\n",
    "      op.write(frame)\n",
    "      if cv2.waitKey(1) & 0xFF ==ord('q'):\n",
    "         break\n",
    "   op.release()\n",
    "   capture.release()\n",
    "   cv2.destroyAllWindows()   \n"
   ]
  },
  {
   "cell_type": "code",
   "execution_count": 6,
   "id": "b46aa295",
   "metadata": {},
   "outputs": [],
   "source": [
    "def webdet():\n",
    "   capture =cv2.VideoCapture(0)\n",
    "   face_cascade = cv2.CascadeClassifier('lbpcascade_frontalface.xml')\n",
    "   eye_glass = cv2.CascadeClassifier('haarcascade_eye_tree_eyeglasses.xml')\n",
    "   \n",
    "\n",
    "   while True:\n",
    "       ret, frame = capture.read()\n",
    "       gray = cv2.cvtColor(frame, cv2.COLOR_BGR2GRAY)\n",
    "       faces = face_cascade.detectMultiScale(gray)\n",
    "    \n",
    "\n",
    "       for (x,y,w,h) in faces:\n",
    "           font = cv2.FONT_HERSHEY_COMPLEX\n",
    "           cv2.putText(frame,'Face',(x+w,y+h),font,1,(250,250,250),2,cv2.LINE_AA)\n",
    "           cv2.rectangle(frame,(x,y),(x+w,y+h),(255,0,0),2)\n",
    "           roi_gray = gray[y:y+h, x:x+w]\n",
    "           roi_color = frame[y:y+h, x:x+w]\n",
    "        \n",
    "          \n",
    "           eye_g = eye_glass.detectMultiScale(roi_gray)\n",
    "           for (ex,ey,ew,eh) in eye_g:\n",
    "              cv2.rectangle(roi_color,(ex,ey),(ex+ew,ey+eh),(0,255,0),2)\n",
    "\n",
    "       \n",
    "       cv2.imshow('frame',frame)\n",
    "       if cv2.waitKey(1) & 0xff == ord('q'):\n",
    "          break\n",
    "   capture.release()\n",
    "   cv2.destroyAllWindows()\n",
    "def webdetRec():\n",
    "   capture =cv2.VideoCapture(0)\n",
    "   face_cascade = cv2.CascadeClassifier('lbpcascade_frontalface.xml')\n",
    "   eye_glass = cv2.CascadeClassifier('haarcascade_eye_tree_eyeglasses.xml')\n",
    "   fourcc=cv2.VideoWriter_fourcc(*'XVID') \n",
    "   op=cv2.VideoWriter('Sample2.avi',fourcc,9.0,(640,480))"
   ]
  },
  {
   "cell_type": "code",
   "execution_count": 7,
   "id": "706039c5",
   "metadata": {},
   "outputs": [],
   "source": [
    "def alert():\n",
    "   mixer.init()\n",
    "   alert=mixer.Sound('alarm.wav')\n",
    "   alert.play()\n",
    "   time.sleep(10)\n",
    "   alert.play()   "
   ]
  },
  {
   "cell_type": "code",
   "execution_count": 8,
   "id": "aca124ff",
   "metadata": {},
   "outputs": [],
   "source": [
    "def blink():\n",
    "   capture =cv2.VideoCapture(0)\n",
    "   face_cascade = cv2.CascadeClassifier('lbpcascade_frontalface.xml')\n",
    "   eye_cascade = cv2.CascadeClassifier('haarcascade_eye.xml')\n",
    "   blink_cascade = cv2.CascadeClassifier('CustomBlinkCascade.xml')\n",
    "\n",
    "   while True:\n",
    "      ret, frame = capture.read()\n",
    "      gray = cv2.cvtColor(frame,cv2.COLOR_BGR2GRAY)\n",
    "      faces = face_cascade.detectMultiScale(gray)\n",
    "\n",
    "      for (x,y,w,h) in faces:\n",
    "         font = cv2.FONT_HERSHEY_COMPLEX\n",
    "         cv2.putText(frame,'Face',(x+w,y+h),font,1,(250,250,250),2,cv2.LINE_AA)\n",
    "         cv2.rectangle(frame,(x,y),(x+w,y+h),(255,0,0),2)\n",
    "         roi_gray = gray[y:y+h, x:x+w]\n",
    "         roi_color = frame[y:y+h, x:x+w]\n",
    "\n",
    "         eyes = eye_cascade.detectMultiScale(roi_gray)\n",
    "         for(ex,ey,ew,eh) in eyes:\n",
    "            cv2.rectangle(roi_color,(ex,ey),(ex+ew,ey+eh),(0,255,0),2)\n",
    "\n",
    "         blink = blink_cascade.detectMultiScale(roi_gray)\n",
    "         for(eyx,eyy,eyw,eyh) in blink:\n",
    "            cv2.rectangle(roi_color,(eyx,eyy),(eyx+eyw,eyy+eyh),(255,255,0),2)\n",
    "            alert()\n",
    "      cv2.imshow('frame',frame)\n",
    "      if cv2.waitKey(1) & 0xFF ==ord('q'):\n",
    "          break\n",
    "        \n",
    "      "
   ]
  },
  {
   "cell_type": "code",
   "execution_count": 9,
   "id": "9de6287f",
   "metadata": {},
   "outputs": [],
   "source": [
    " capture =cv2.VideoCapture(0)\n",
    " capture.release()\n",
    " cv2.destroyAllWindows()  "
   ]
  },
  {
   "cell_type": "code",
   "execution_count": 10,
   "id": "56168c19",
   "metadata": {},
   "outputs": [
    {
     "name": "stderr",
     "output_type": "stream",
     "text": [
      "Exception in Tkinter callback\n",
      "Traceback (most recent call last):\n",
      "  File \"C:\\Users\\india\\anaconda3\\lib\\tkinter\\__init__.py\", line 1892, in __call__\n",
      "    return self.func(*args)\n",
      "  File \"<ipython-input-8-426e940fe61b>\", line 26, in blink\n",
      "    alert()\n",
      "  File \"<ipython-input-7-7043893ea0a9>\", line 5, in alert\n",
      "    time.sleep(10)\n",
      "KeyboardInterrupt\n"
     ]
    }
   ],
   "source": [
    "but1=Button(frame,padx=5,pady=5,width=39,bg='white',fg='black',relief=GROOVE,command=web,text='Open Cam',font=('helvetica 15 bold'))\n",
    "but1.place(x=5,y=104)\n",
    "\n",
    "but2=Button(frame,padx=5,pady=5,width=39,bg='white',fg='black',relief=GROOVE,command=webrec,text='Open Cam & Record',font=('helvetica 15 bold'))\n",
    "but2.place(x=5,y=176)\n",
    "\n",
    "but3=Button(frame,padx=5,pady=5,width=39,bg='white',fg='black',relief=GROOVE,command=webdet,text='Open Cam & Detect',font=('helvetica 15 bold'))\n",
    "but3.place(x=5,y=250)\n",
    "\n",
    "but4=Button(frame,padx=5,pady=5,width=39,bg='white',fg='black',relief=GROOVE,command=webdetRec,text='Detect & Record',font=('helvetica 15 bold'))\n",
    "but4.place(x=5,y=322)\n",
    "\n",
    "but5=Button(frame,padx=5,pady=5,width=39,bg='white',fg='black',relief=GROOVE,command=blink,text='Detect Eye Blink & Record With Sound',font=('helvetica 15 bold'))\n",
    "but5.place(x=5,y=400)\n",
    "\n",
    "but5=Button(frame,padx=5,pady=5,width=5,bg='white',fg='black',relief=GROOVE,text='EXIT',command=exitt,font=('helvetica 15 bold'))\n",
    "but5.place(x=210,y=478)\n",
    "\n",
    "\n",
    "root.mainloop()\n"
   ]
  },
  {
   "cell_type": "code",
   "execution_count": null,
   "id": "3e6361c9",
   "metadata": {},
   "outputs": [],
   "source": []
  },
  {
   "cell_type": "code",
   "execution_count": null,
   "id": "ef7315a0",
   "metadata": {},
   "outputs": [],
   "source": []
  }
 ],
 "metadata": {
  "kernelspec": {
   "display_name": "Python 3",
   "language": "python",
   "name": "python3"
  },
  "language_info": {
   "codemirror_mode": {
    "name": "ipython",
    "version": 3
   },
   "file_extension": ".py",
   "mimetype": "text/x-python",
   "name": "python",
   "nbconvert_exporter": "python",
   "pygments_lexer": "ipython3",
   "version": "3.8.8"
  }
 },
 "nbformat": 4,
 "nbformat_minor": 5
}
